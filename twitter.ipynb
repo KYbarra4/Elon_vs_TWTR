{
 "cells": [
  {
   "cell_type": "code",
   "execution_count": 6,
   "metadata": {},
   "outputs": [],
   "source": [
    "# Dependencies\n",
    "import requests\n",
    "import json\n",
    "import pandas as pd\n"
   ]
  },
  {
   "cell_type": "code",
   "execution_count": 10,
   "metadata": {},
   "outputs": [
    {
     "name": "stdout",
     "output_type": "stream",
     "text": [
      "yfinance.Ticker object <TWTR>\n"
     ]
    }
   ],
   "source": [
    "\n",
    "import yfinance as yf\n",
    "\n",
    "twtr = yf.Ticker(\"TWTR\")\n",
    "print(twtr)\n",
    "\n",
    "twtr.info\n",
    "\n",
    "twtr_df=twtr.history(period=\"max\")\n",
    "\n"
   ]
  },
  {
   "cell_type": "code",
   "execution_count": 9,
   "metadata": {},
   "outputs": [
    {
     "name": "stdout",
     "output_type": "stream",
     "text": [
      "yfinance.Ticker object <TWTR>\n"
     ]
    }
   ],
   "source": [
    "# twtr_df=pd.DataFrame(twtr)\n"
   ]
  },
  {
   "cell_type": "code",
   "execution_count": 11,
   "metadata": {},
   "outputs": [],
   "source": [
    "twtr_df.to_csv('twtr_all.csv', index=True)"
   ]
  },
  {
   "cell_type": "code",
   "execution_count": null,
   "metadata": {},
   "outputs": [],
   "source": []
  }
 ],
 "metadata": {
  "kernelspec": {
   "display_name": "base",
   "language": "python",
   "name": "python3"
  },
  "language_info": {
   "codemirror_mode": {
    "name": "ipython",
    "version": 3
   },
   "file_extension": ".py",
   "mimetype": "text/x-python",
   "name": "python",
   "nbconvert_exporter": "python",
   "pygments_lexer": "ipython3",
   "version": "3.9.12"
  },
  "orig_nbformat": 4,
  "vscode": {
   "interpreter": {
    "hash": "ca160d81952f45d0214e8df7cb8b9103fcb9f703c03fbf488f3e41be1d1172f6"
   }
  }
 },
 "nbformat": 4,
 "nbformat_minor": 2
}
